{
 "cells": [
  {
   "cell_type": "code",
   "execution_count": 1,
   "id": "da347714-2da0-4578-b14e-a795dcb08192",
   "metadata": {},
   "outputs": [],
   "source": [
    "import pandas as pd\n",
    "import pandahouse as ph\n",
    "import seaborn as sns\n",
    "from scipy import stats \n",
    "%matplotlib inline"
   ]
  },
  {
   "cell_type": "code",
   "execution_count": 2,
   "id": "85a07e03-a9af-4031-98df-07db965f68c9",
   "metadata": {},
   "outputs": [],
   "source": [
    "connection = {'host': 'https://clickhouse.lab.karpov.courses',\n",
    "                      'database':'simulator_20230220',\n",
    "                      'user':'student', \n",
    "                      'password':'dpo_python_2020'\n",
    "                     }\n",
    "\n",
    "q = \"\"\"\n",
    "SELECT exp_group, \n",
    "    user_id,\n",
    "    sum(action = 'like') as likes,\n",
    "    sum(action = 'view') as views,\n",
    "    likes/views as ctr\n",
    "FROM {db}.feed_actions \n",
    "WHERE toDate(time) between '2023-01-24' and '2023-01-30'\n",
    "    and exp_group in (2,3)\n",
    "GROUP BY exp_group, user_id\n",
    "\"\"\"\n",
    "\n",
    "df = ph.read_clickhouse(q, connection=connection)"
   ]
  },
  {
   "cell_type": "code",
   "execution_count": 3,
   "id": "18609d14-e69e-4fd3-8325-80eed2533697",
   "metadata": {},
   "outputs": [
    {
     "data": {
      "text/html": [
       "<div>\n",
       "<style scoped>\n",
       "    .dataframe tbody tr th:only-of-type {\n",
       "        vertical-align: middle;\n",
       "    }\n",
       "\n",
       "    .dataframe tbody tr th {\n",
       "        vertical-align: top;\n",
       "    }\n",
       "\n",
       "    .dataframe thead th {\n",
       "        text-align: right;\n",
       "    }\n",
       "</style>\n",
       "<table border=\"1\" class=\"dataframe\">\n",
       "  <thead>\n",
       "    <tr style=\"text-align: right;\">\n",
       "      <th></th>\n",
       "      <th>user_id</th>\n",
       "      <th>likes</th>\n",
       "      <th>views</th>\n",
       "      <th>ctr</th>\n",
       "    </tr>\n",
       "    <tr>\n",
       "      <th>exp_group</th>\n",
       "      <th></th>\n",
       "      <th></th>\n",
       "      <th></th>\n",
       "      <th></th>\n",
       "    </tr>\n",
       "  </thead>\n",
       "  <tbody>\n",
       "    <tr>\n",
       "      <th>2</th>\n",
       "      <td>8480</td>\n",
       "      <td>8480</td>\n",
       "      <td>8480</td>\n",
       "      <td>8480</td>\n",
       "    </tr>\n",
       "    <tr>\n",
       "      <th>3</th>\n",
       "      <td>8569</td>\n",
       "      <td>8569</td>\n",
       "      <td>8569</td>\n",
       "      <td>8569</td>\n",
       "    </tr>\n",
       "  </tbody>\n",
       "</table>\n",
       "</div>"
      ],
      "text/plain": [
       "           user_id  likes  views   ctr\n",
       "exp_group                             \n",
       "2             8480   8480   8480  8480\n",
       "3             8569   8569   8569  8569"
      ]
     },
     "execution_count": 3,
     "metadata": {},
     "output_type": "execute_result"
    }
   ],
   "source": [
    "df.groupby('exp_group').count()"
   ]
  },
  {
   "cell_type": "code",
   "execution_count": 4,
   "id": "42cdd05b-9821-4597-8f39-86dbaf5a1c6f",
   "metadata": {},
   "outputs": [
    {
     "data": {
      "image/png": "[encoded data removed]",
      "text/plain": [
       "<Figure size 864x576 with 1 Axes>"
      ]
     },
     "metadata": {},
     "output_type": "display_data"
    }
   ],
   "source": [
    "sns.set(rc={'figure.figsize':(12,8)})\n",
    "\n",
    "groups = sns.histplot(data = df, \n",
    "              x='ctr', \n",
    "              hue='exp_group', \n",
    "              palette = ['r', 'b'],\n",
    "              alpha=0.5,\n",
    "              kde=False)"
   ]
  },
  {
   "cell_type": "markdown",
   "id": "5c36aee4-923a-4c75-a1ad-76c89b0c368c",
   "metadata": {},
   "source": [
    "Сделаем симуляцию, как будто мы провели 10000 АА-тестов. На каждой итерации формируем подвыборки без повторения в 500 юзеров из 2 и 3 экспериментальной группы. Проводим сравнение этих подвыборок t-testом.  "
   ]
  },
  {
   "cell_type": "code",
   "execution_count": 5,
   "id": "f48db09e-2633-46e4-a354-a64a85067f2d",
   "metadata": {},
   "outputs": [],
   "source": [
    "pvale_df = pd.DataFrame(columns=['pvalue'])\n",
    "\n",
    "for _ in range(10000):\n",
    "    df_2 = df[df.exp_group == 2].ctr.sample(500).reset_index()\n",
    "    df_3 = df[df.exp_group == 3].ctr.sample(500).reset_index()\n",
    "    pvale_df.loc[len(pvale_df.index)] = [stats.ttest_ind(df_2.ctr, df_3.ctr, equal_var=False).pvalue]"
   ]
  },
  {
   "cell_type": "markdown",
   "id": "6d18a420-f965-4b85-ad10-d1777935eb95",
   "metadata": {},
   "source": [
    "Строим гистограмму распределения получившихся 10000 p-values."
   ]
  },
  {
   "cell_type": "code",
   "execution_count": 6,
   "id": "1b2f29ad-66b8-49d8-ae2e-5019eebc21be",
   "metadata": {},
   "outputs": [
    {
     "data": {
      "text/plain": [
       "<AxesSubplot:xlabel='pvalue', ylabel='Count'>"
      ]
     },
     "execution_count": 6,
     "metadata": {},
     "output_type": "execute_result"
    },
    {
     "data": {
      "image/png": "[encoded data removed]",
      "text/plain": [
       "<Figure size 864x576 with 1 Axes>"
      ]
     },
     "metadata": {},
     "output_type": "display_data"
    }
   ],
   "source": [
    "sns.histplot(pvale_df.pvalue)"
   ]
  },
  {
   "cell_type": "code",
   "execution_count": 7,
   "id": "ec6c50fe-5317-4b2e-98db-2d22ee15050c",
   "metadata": {},
   "outputs": [
    {
     "data": {
      "text/plain": [
       "count    10000.000000\n",
       "mean         0.503838\n",
       "std          0.287920\n",
       "min          0.000291\n",
       "25%          0.262260\n",
       "50%          0.501418\n",
       "75%          0.751954\n",
       "max          0.999982\n",
       "Name: pvalue, dtype: float64"
      ]
     },
     "execution_count": 7,
     "metadata": {},
     "output_type": "execute_result"
    }
   ],
   "source": [
    "pvale_df.pvalue.describe()"
   ]
  },
  {
   "cell_type": "markdown",
   "id": "adb3b873-74c9-4baf-9f67-ced14d7600f0",
   "metadata": {},
   "source": [
    "Посчитаем, какой процент p values оказался меньше либо равен 0.05"
   ]
  },
  {
   "cell_type": "code",
   "execution_count": 8,
   "id": "d856f30d-f3ff-473a-a509-91f9f38a51f2",
   "metadata": {},
   "outputs": [
    {
     "data": {
      "text/plain": [
       "pvalue    4.89\n",
       "dtype: float64"
      ]
     },
     "execution_count": 8,
     "metadata": {},
     "output_type": "execute_result"
    }
   ],
   "source": [
    "pvale_df.loc[pvale_df.pvalue <= 0.05].count() * 100 / pvale_df.count()"
   ]
  },
  {
   "cell_type": "markdown",
   "id": "985bfd3d-5700-4fb4-afcf-a95f7e512600",
   "metadata": {},
   "source": [
    "\n",
    "\n",
    "Можно заметить, что менее 5 % от всех получившихся значений pvalue находятся ниже, либо равны 0.05. Исходя из этого можно сделать вывод, что наша система сплитования работает корректно и можно переходить к стадии А/В тестирования. "
   ]
  }
 ],
 "metadata": {
  "kernelspec": {
   "display_name": "Python 3 (ipykernel)",
   "language": "python",
   "name": "python3"
  },
  "language_info": {
   "codemirror_mode": {
    "name": "ipython",
    "version": 3
   },
   "file_extension": ".py",
   "mimetype": "text/x-python",
   "name": "python",
   "nbconvert_exporter": "python",
   "pygments_lexer": "ipython3",
   "version": "3.8.10"
  }
 },
 "nbformat": 4,
 "nbformat_minor": 5
}
