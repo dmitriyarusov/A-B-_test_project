{
 "cells": [
  {
   "cell_type": "code",
   "execution_count": 41,
   "id": "1a3596ba-fdbc-42f6-b5bb-81ef71b774ae",
   "metadata": {},
   "outputs": [],
   "source": [
    "import pandas as pd\n",
    "import pandahouse as ph\n",
    "import seaborn as sns\n",
    "import numpy as np\n",
    "from scipy import stats\n",
    "import matplotlib.pyplot as plt\n",
    "%matplotlib inline"
   ]
  },
  {
   "cell_type": "markdown",
   "id": "9edfdbc7-41c3-4cdd-922a-4750c3b4c5d7",
   "metadata": {},
   "source": [
    "Загрузим данные для тестовой и контрольной группы."
   ]
  },
  {
   "cell_type": "code",
   "execution_count": 7,
   "id": "c09eb219-7890-4f5f-9616-b40d117074bb",
   "metadata": {},
   "outputs": [],
   "source": [
    "connection = {'host': 'https://clickhouse.lab.karpov.courses',\n",
    "                      'database':'simulator_20230220',\n",
    "                      'user':'student', \n",
    "                      'password':'dpo_python_2020'\n",
    "                     }\n",
    "\n",
    "q = \"\"\"\n",
    "SELECT exp_group, \n",
    "    user_id,\n",
    "    sum(action = 'like') as likes,\n",
    "    sum(action = 'view') as views,\n",
    "    likes/views as ctr\n",
    "FROM {db}.feed_actions \n",
    "WHERE toDate(time) between '2023-01-31' and '2023-02-06'\n",
    "    and exp_group in (1,2)\n",
    "GROUP BY exp_group, user_id\n",
    "\"\"\"\n",
    "\n",
    "df = ph.read_clickhouse(q, connection=connection)"
   ]
  },
  {
   "cell_type": "code",
   "execution_count": 8,
   "id": "12fedd15-a46b-47c3-a795-48ba15e24c52",
   "metadata": {},
   "outputs": [
    {
     "data": {
      "text/html": [
       "<div>\n",
       "<style scoped>\n",
       "    .dataframe tbody tr th:only-of-type {\n",
       "        vertical-align: middle;\n",
       "    }\n",
       "\n",
       "    .dataframe tbody tr th {\n",
       "        vertical-align: top;\n",
       "    }\n",
       "\n",
       "    .dataframe thead th {\n",
       "        text-align: right;\n",
       "    }\n",
       "</style>\n",
       "<table border=\"1\" class=\"dataframe\">\n",
       "  <thead>\n",
       "    <tr style=\"text-align: right;\">\n",
       "      <th></th>\n",
       "      <th>user_id</th>\n",
       "      <th>likes</th>\n",
       "      <th>views</th>\n",
       "      <th>ctr</th>\n",
       "    </tr>\n",
       "    <tr>\n",
       "      <th>exp_group</th>\n",
       "      <th></th>\n",
       "      <th></th>\n",
       "      <th></th>\n",
       "      <th></th>\n",
       "    </tr>\n",
       "  </thead>\n",
       "  <tbody>\n",
       "    <tr>\n",
       "      <th>1</th>\n",
       "      <td>10079</td>\n",
       "      <td>10079</td>\n",
       "      <td>10079</td>\n",
       "      <td>10079</td>\n",
       "    </tr>\n",
       "    <tr>\n",
       "      <th>2</th>\n",
       "      <td>9952</td>\n",
       "      <td>9952</td>\n",
       "      <td>9952</td>\n",
       "      <td>9952</td>\n",
       "    </tr>\n",
       "  </tbody>\n",
       "</table>\n",
       "</div>"
      ],
      "text/plain": [
       "           user_id  likes  views    ctr\n",
       "exp_group                              \n",
       "1            10079  10079  10079  10079\n",
       "2             9952   9952   9952   9952"
      ]
     },
     "execution_count": 8,
     "metadata": {},
     "output_type": "execute_result"
    }
   ],
   "source": [
    "df.groupby('exp_group').count()"
   ]
  },
  {
   "cell_type": "markdown",
   "id": "92f568f1-fcde-437c-b5cb-e82dd822a6ac",
   "metadata": {},
   "source": [
    "Построим график распределения CTR в наших группах."
   ]
  },
  {
   "cell_type": "code",
   "execution_count": 18,
   "id": "3ecf3719-602d-4c0c-ae6c-71c1f4fc2a5d",
   "metadata": {},
   "outputs": [
    {
     "data": {
      "image/png": "[encoded data removed]",
      "text/plain": [
       "<Figure size 864x576 with 1 Axes>"
      ]
     },
     "metadata": {},
     "output_type": "display_data"
    }
   ],
   "source": [
    "sns.set(rc={'figure.figsize':(12,8)})\n",
    "\n",
    "groups = sns.histplot(data = df, \n",
    "              x='ctr', \n",
    "              hue = 'exp_group', \n",
    "              palette = ['r', 'b'],\n",
    "              alpha=0.5,\n",
    "              kde=False)"
   ]
  },
  {
   "cell_type": "markdown",
   "id": "2ac731d1-9d92-48af-a69e-e44532238e27",
   "metadata": {},
   "source": [
    "По графику заметно, что распределение показателей CTR в контрольной группе нормальное. В то время как в тестовой бимодальное. У какой-то части пользователей CTR все же увеличился, но у большей части показатель снизился, о чем свидетельствуют различия в частоте встречаемости двух наших мод в тестовой группе. Также появились некоторые выбросы в сторону больших показателей CTR. "
   ]
  },
  {
   "cell_type": "markdown",
   "id": "4cc0cfa7-72e4-4cbd-8cc8-2ec73a0e72c0",
   "metadata": {},
   "source": [
    "Проведем сравнение наших групп t-тестом."
   ]
  },
  {
   "cell_type": "code",
   "execution_count": 27,
   "id": "c9dd98e7-e7af-456f-a5a2-ec1b3845f8cb",
   "metadata": {},
   "outputs": [
    {
     "data": {
      "text/plain": [
       "Ttest_indResult(statistic=0.7094392041270486, pvalue=0.4780623130874935)"
      ]
     },
     "execution_count": 27,
     "metadata": {},
     "output_type": "execute_result"
    }
   ],
   "source": [
    "stats.ttest_ind(df[df.exp_group == 1].ctr, df[df.exp_group == 2].ctr, equal_var=False)"
   ]
  },
  {
   "cell_type": "markdown",
   "id": "03f2d007-2c00-4eb0-b625-b42fd2cd985f",
   "metadata": {},
   "source": [
    "t-тест показывет, что значимых различий в группах нету (pvalue > 0.05)"
   ]
  },
  {
   "cell_type": "markdown",
   "id": "13ce2d8f-6f2c-44f6-976e-cd8c01fb8e6c",
   "metadata": {},
   "source": [
    "Проведем сравнение наших групп Пуассоновским бутстрепом."
   ]
  },
  {
   "cell_type": "code",
   "execution_count": 16,
   "id": "30ee9a1f-deb7-4700-84b1-8674c2cb5425",
   "metadata": {},
   "outputs": [],
   "source": [
    "def bootstrap(likes1, views1, likes2, views2, n_bootstrap=2000):\n",
    "\n",
    "    poisson_bootstraps1 = stats.poisson(1).rvs(\n",
    "        (n_bootstrap, len(likes1))).astype(np.int64)\n",
    "\n",
    "    poisson_bootstraps2 = stats.poisson(1).rvs(\n",
    "            (n_bootstrap, len(likes2))).astype(np.int64)\n",
    "    \n",
    "    globalCTR1 = (poisson_bootstraps1*likes1).sum(axis=1)/(poisson_bootstraps1*views1).sum(axis=1)\n",
    "    \n",
    "    globalCTR2 = (poisson_bootstraps2*likes2).sum(axis=1)/(poisson_bootstraps2*views2).sum(axis=1)\n",
    "\n",
    "    return globalCTR1, globalCTR2"
   ]
  },
  {
   "cell_type": "code",
   "execution_count": 19,
   "id": "dd93516d-5692-4a22-847a-efe7b053b1ee",
   "metadata": {},
   "outputs": [
    {
     "data": {
      "text/plain": [
       "<AxesSubplot:ylabel='Count'>"
      ]
     },
     "execution_count": 19,
     "metadata": {},
     "output_type": "execute_result"
    },
    {
     "data": {
      "image/png": "[encoded data removed]",
      "text/plain": [
       "<Figure size 864x576 with 1 Axes>"
      ]
     },
     "metadata": {},
     "output_type": "display_data"
    }
   ],
   "source": [
    "likes1 = df[df.exp_group == 1].likes.to_numpy()\n",
    "views1 = df[df.exp_group == 1].views.to_numpy()\n",
    "likes2 = df[df.exp_group == 2].likes.to_numpy()\n",
    "views2 = df[df.exp_group == 2].views.to_numpy()\n",
    "\n",
    "ctr1, ctr2 = bootstrap(likes1, views1, likes2, views2)\n",
    "\n",
    "sns.histplot(ctr1)\n",
    "sns.histplot(ctr2)"
   ]
  },
  {
   "cell_type": "markdown",
   "id": "d701cb2c-981c-4cd4-96a8-9926ed3015af",
   "metadata": {},
   "source": [
    "Распределения показывают, что показатели глобальных CTR даже не пересекаются. \n",
    "Посмотрим также на распределение разниц CTR. "
   ]
  },
  {
   "cell_type": "code",
   "execution_count": 26,
   "id": "e75eca01-27f9-423d-b50f-64fd1a854f6c",
   "metadata": {},
   "outputs": [
    {
     "data": {
      "text/plain": [
       "<AxesSubplot:ylabel='Count'>"
      ]
     },
     "execution_count": 26,
     "metadata": {},
     "output_type": "execute_result"
    },
    {
     "data": {
      "image/png": "[encoded data removed]",
      "text/plain": [
       "<Figure size 864x576 with 1 Axes>"
      ]
     },
     "metadata": {},
     "output_type": "display_data"
    }
   ],
   "source": [
    "sns.histplot(ctr1 - ctr2)"
   ]
  },
  {
   "cell_type": "markdown",
   "id": "2ebdf9b5-528d-4bcf-af78-e2cfdc2de277",
   "metadata": {},
   "source": [
    "Проведем сравнение наших групп тестом Манна-Уитни."
   ]
  },
  {
   "cell_type": "code",
   "execution_count": 28,
   "id": "888308a9-5819-405e-8bed-4210bbe5c049",
   "metadata": {},
   "outputs": [
    {
     "data": {
      "text/plain": [
       "MannwhitneyuResult(statistic=56601260.5, pvalue=6.0376484617779035e-56)"
      ]
     },
     "execution_count": 28,
     "metadata": {},
     "output_type": "execute_result"
    }
   ],
   "source": [
    "stats.mannwhitneyu(df[df.exp_group == 1].ctr,  df[df.exp_group == 2].ctr, alternative = 'two-sided')"
   ]
  },
  {
   "cell_type": "markdown",
   "id": "4f245e5f-d268-497f-97b8-979466594bd7",
   "metadata": {},
   "source": [
    "В отличии от t-теста, тест Манна-Уитни показал, что в наших группах заметны значимые различия (pvalue < 0.05)."
   ]
  },
  {
   "cell_type": "markdown",
   "id": "b1e53a3a-80a4-401f-a1b2-d9b9c668643d",
   "metadata": {},
   "source": [
    "Далее сравненим наши группы на сглаженных значениях CTR."
   ]
  },
  {
   "cell_type": "code",
   "execution_count": 30,
   "id": "3b2c2ade-7a44-4e43-b37f-1220135f7dff",
   "metadata": {},
   "outputs": [],
   "source": [
    "def get_smothed_ctr(user_likes, user_views, global_ctr, alpha):\n",
    "    smothed_ctr = (user_likes + alpha * global_ctr) / (user_views + alpha)\n",
    "    return smothed_ctr"
   ]
  },
  {
   "cell_type": "code",
   "execution_count": 37,
   "id": "2ea2c7d7-cef0-43e0-8825-2fcde15ce99e",
   "metadata": {},
   "outputs": [],
   "source": [
    "global_ctr_1 = df[df.exp_group == 1].likes.sum()/df[df.exp_group == 1].views.sum()\n",
    "global_ctr_2 = df[df.exp_group == 2].likes.sum()/df[df.exp_group == 2].views.sum()\n",
    "\n",
    "group1 = df[df.exp_group == 1].copy()\n",
    "group2 = df[df.exp_group == 2].copy()"
   ]
  },
  {
   "cell_type": "code",
   "execution_count": 38,
   "id": "9d046bf1-c283-4f69-9836-5968ecdb0b9b",
   "metadata": {},
   "outputs": [],
   "source": [
    "group1['smothed_ctr'] = df.apply(lambda x: get_smothed_ctr(x['likes'], x['views'], global_ctr_1, 5), axis=1)\n",
    "group2['smothed_ctr'] = df.apply(lambda x: get_smothed_ctr(x['likes'], x['views'], global_ctr_2, 5), axis=1)"
   ]
  },
  {
   "cell_type": "markdown",
   "id": "9e26095b-908e-44b0-83a8-aa9d10a351c4",
   "metadata": {},
   "source": [
    "Визаульно сравним распределения показателей CTR (до и после сглаживания)."
   ]
  },
  {
   "cell_type": "code",
   "execution_count": 55,
   "id": "f143564d-e46b-4501-92b3-0a3973893628",
   "metadata": {},
   "outputs": [
    {
     "data": {
      "image/png": "[encoded data removed]",
      "text/plain": [
       "<Figure size 1440x864 with 4 Axes>"
      ]
     },
     "metadata": {
      "needs_background": "light"
     },
     "output_type": "display_data"
    }
   ],
   "source": [
    "fig, ax = plt.subplots(2, 2, figsize=(20,12))\n",
    "sns.histplot(group1.ctr, ax=ax[0,0], kde=False)\n",
    "ax[0,0].set_title('CTR контрольной группы')\n",
    "sns.histplot(group1.smothed_ctr, ax=ax[0,1], kde=False)\n",
    "ax[0,1].set_title('Сглаженный CTR контрольной группы')\n",
    "sns.histplot(group2.ctr, ax=ax[1,0], kde=False)\n",
    "ax[1,0].set_title('CTR тестовой группы')\n",
    "sns.histplot(group2.smothed_ctr, ax=ax[1,1], kde=False)\n",
    "ax[1,1].set_title('Сглаженный CTR тестовой группы')\n",
    "plt.show()"
   ]
  },
  {
   "cell_type": "markdown",
   "id": "0e5f34e9-cff8-4085-8e57-6b11aae1c1d3",
   "metadata": {},
   "source": [
    "\n",
    "\n",
    "Запустим t-тест на сглаженных CTR."
   ]
  },
  {
   "cell_type": "code",
   "execution_count": 56,
   "id": "e3cb3c1f-5f1a-4d24-8d1b-5b6c6e1162b2",
   "metadata": {},
   "outputs": [
    {
     "data": {
      "text/plain": [
       "Ttest_indResult(statistic=2.2841320431616983, pvalue=0.0223769815558559)"
      ]
     },
     "execution_count": 56,
     "metadata": {},
     "output_type": "execute_result"
    }
   ],
   "source": [
    "stats.ttest_ind(group1.smothed_ctr, group2.smothed_ctr, equal_var=False)"
   ]
  },
  {
   "cell_type": "markdown",
   "id": "d11affa2-677c-439d-88e2-65f672215f4c",
   "metadata": {},
   "source": [
    "Данный тест показывает, что занчимые различия в группах существуют (pvalue < 0.05)."
   ]
  },
  {
   "cell_type": "markdown",
   "id": "27b1d586-6730-4df1-a6a4-3ae5f93eba74",
   "metadata": {},
   "source": [
    "Проведем бакетное преобразование."
   ]
  },
  {
   "cell_type": "code",
   "execution_count": 61,
   "id": "90b03c4d-d03f-48db-975a-cf64f8bfa5b0",
   "metadata": {},
   "outputs": [],
   "source": [
    "q = \"\"\"\n",
    "\n",
    "SELECT exp_group, bucket,\n",
    "    sum(likes)/sum(views) as bucket_ctr,\n",
    "    quantileExact(0.9)(ctr) as ctr9\n",
    "FROM (SELECT exp_group, \n",
    "        xxHash64(user_id)%50 as bucket,\n",
    "        user_id,\n",
    "        sum(action = 'like') as likes,\n",
    "        sum(action = 'view') as views,\n",
    "        likes/views as ctr\n",
    "    FROM {db}.feed_actions \n",
    "    WHERE toDate(time) between '2023-01-31' and '2023-02-06'\n",
    "        and exp_group in (1,2)\n",
    "    GROUP BY exp_group, bucket, user_id)\n",
    "GROUP BY exp_group, bucket\n",
    "\"\"\"\n",
    "\n",
    "bucket_df = ph.read_clickhouse(q, connection=connection)"
   ]
  },
  {
   "cell_type": "markdown",
   "id": "d0e3b147-60e0-441a-a705-f02666f1e050",
   "metadata": {},
   "source": [
    "Запустим t-тест поверх бакетного преобразования."
   ]
  },
  {
   "cell_type": "code",
   "execution_count": 69,
   "id": "6fccd284-7ac7-4e68-a9d7-a91e02008f2f",
   "metadata": {},
   "outputs": [
    {
     "data": {
      "text/plain": [
       "Ttest_indResult(statistic=5.668234732053979, pvalue=3.4455951649945907e-07)"
      ]
     },
     "execution_count": 69,
     "metadata": {},
     "output_type": "execute_result"
    }
   ],
   "source": [
    "stats.ttest_ind(bucket_df[bucket_df.exp_group == 1].bucket_ctr, bucket_df[bucket_df.exp_group == 2].bucket_ctr, equal_var = False)"
   ]
  },
  {
   "cell_type": "markdown",
   "id": "0ff37150-b74c-41b2-a392-7992c04d710c",
   "metadata": {},
   "source": [
    "Запустим тест Манна-Уитни поверх бакетного преобразования."
   ]
  },
  {
   "cell_type": "code",
   "execution_count": 68,
   "id": "9ad04e1f-8ef9-4184-913e-c46a5637eaa5",
   "metadata": {},
   "outputs": [
    {
     "data": {
      "text/plain": [
       "MannwhitneyuResult(statistic=1995.0, pvalue=2.859963936492646e-07)"
      ]
     },
     "execution_count": 68,
     "metadata": {},
     "output_type": "execute_result"
    }
   ],
   "source": [
    "stats.mannwhitneyu(bucket_df[bucket_df.exp_group == 1].bucket_ctr, bucket_df[bucket_df.exp_group == 2].bucket_ctr, alternative = 'two-sided')"
   ]
  },
  {
   "cell_type": "markdown",
   "id": "37609cd2-01ca-4c39-8565-0d84e390eb81",
   "metadata": {},
   "source": [
    "Оба теста поверх бакетного преобразования показали значимые различия в наших группах (pvalue < 0.05)."
   ]
  },
  {
   "cell_type": "code",
   "execution_count": 70,
   "id": "9f73d700-ba4d-4b19-8df0-e089d4efc327",
   "metadata": {},
   "outputs": [],
   "source": [
    "connection = {'host': 'https://clickhouse.lab.karpov.courses',\n",
    "                      'database':'simulator_20230220',\n",
    "                      'user':'student', \n",
    "                      'password':'dpo_python_2020'\n",
    "                     }\n",
    "\n",
    "q = \"\"\"\n",
    "SELECT exp_group, \n",
    "    user_id,\n",
    "    sum(action = 'like') as likes,\n",
    "    sum(action = 'view') as views,\n",
    "    likes/views as ctr\n",
    "FROM {db}.feed_actions \n",
    "WHERE toDate(time) between '2023-01-24' and '2023-01-30'\n",
    "    and exp_group in (1,2)\n",
    "GROUP BY exp_group, user_id\n",
    "\"\"\"\n",
    "\n",
    "df_12 = ph.read_clickhouse(q, connection=connection)"
   ]
  },
  {
   "cell_type": "code",
   "execution_count": 72,
   "id": "9b52640a-df9c-4289-b3e7-ab8c63659121",
   "metadata": {},
   "outputs": [
    {
     "data": {
      "text/plain": [
       "Ttest_indResult(statistic=-2.017208642179449, pvalue=0.04368941747573785)"
      ]
     },
     "execution_count": 72,
     "metadata": {},
     "output_type": "execute_result"
    }
   ],
   "source": [
    "stats.ttest_ind(df_12[df_12.exp_group == 1].ctr, \n",
    "                   df_12[df_12.exp_group == 2].ctr, \n",
    "                   equal_var = False)"
   ]
  },
  {
   "cell_type": "markdown",
   "id": "e2eede14-c006-438c-8b8d-a9d572e01efa",
   "metadata": {},
   "source": [
    "ВЫВОД"
   ]
  },
  {
   "cell_type": "markdown",
   "id": "e6182106-9acb-43a4-a8ef-79649f14a957",
   "metadata": {},
   "source": [
    "По графикам распределения показателей CTR для наших групп визуально заметно, что распредление для тестовой группы не является нормальным. Из-за этого проведенный нами t-тест не показал значимых различий в нашем эксперементе.\n",
    "Проведенный t-тест уже на сглаживанных показателях CTR показал все таки значимые различия, хотя по построенным графикам нормальность распределения также не наблюдается. И также t-тест поверх бакетного преобразования показал различия. \n",
    "Все тесты Манна-Уитни показали значимые различия в группах.\n",
    "При этом Пуассоновский бутстреп показал, что графики распределения глобальных CTR не пересекаются.\n",
    "Как и говорилось изначально, наш алгоритм для части пользователей увеличивает показатель CTR, но для большинства все же снижает. Возможно это разделение связанно с каким-то признаком наших пользователей (например пол, возраст).\n",
    "На основании этого можно сделать общий вывод, что раскатывать новый алгоритм пока не стоит. Необходимо более детально изучить, как и на какие группы влияет наше нововведение."
   ]
  }
 ],
 "metadata": {
  "kernelspec": {
   "display_name": "Python 3 (ipykernel)",
   "language": "python",
   "name": "python3"
  },
  "language_info": {
   "codemirror_mode": {
    "name": "ipython",
    "version": 3
   },
   "file_extension": ".py",
   "mimetype": "text/x-python",
   "name": "python",
   "nbconvert_exporter": "python",
   "pygments_lexer": "ipython3",
   "version": "3.8.10"
  }
 },
 "nbformat": 4,
 "nbformat_minor": 5
}
